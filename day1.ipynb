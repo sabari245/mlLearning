{
  "nbformat": 4,
  "nbformat_minor": 0,
  "metadata": {
    "colab": {
      "name": "Happiness.ipynb",
      "provenance": []
    },
    "kernelspec": {
      "name": "python3",
      "display_name": "Python 3"
    },
    "language_info": {
      "name": "python"
    }
  },
  "cells": [
    {
      "cell_type": "code",
      "metadata": {
        "id": "bp7k6rS_AHMN"
      },
      "source": [
        "import numpy as np \n",
        "import pandas as pd \n",
        "import matplotlib.pyplot as plt\n",
        "import seaborn as sns"
      ],
      "execution_count": null,
      "outputs": []
    },
    {
      "cell_type": "code",
      "metadata": {
        "id": "u51LwSeWAcjN"
      },
      "source": [
        "data = pd.read_csv('2015.csv')\n",
        "data.info()"
      ],
      "execution_count": null,
      "outputs": []
    },
    {
      "cell_type": "code",
      "metadata": {
        "id": "V3IgYSL8AmGm"
      },
      "source": [
        "data.describe()"
      ],
      "execution_count": null,
      "outputs": []
    },
    {
      "cell_type": "code",
      "metadata": {
        "id": "d9D3UojHAsI-"
      },
      "source": [
        "data.head()"
      ],
      "execution_count": null,
      "outputs": []
    },
    {
      "cell_type": "code",
      "metadata": {
        "id": "75Avpd-BAwC9"
      },
      "source": [
        "data[data['Country'] == 'Canada']"
      ],
      "execution_count": null,
      "outputs": []
    },
    {
      "cell_type": "code",
      "metadata": {
        "id": "JJaFseGeA2Zl"
      },
      "source": [
        "data[data['Region'] == 'North America']"
      ],
      "execution_count": null,
      "outputs": []
    },
    {
      "cell_type": "code",
      "metadata": {
        "id": "4pe7jkvZA7Ft"
      },
      "source": [
        "data['Region'].unique()"
      ],
      "execution_count": null,
      "outputs": []
    },
    {
      "cell_type": "code",
      "metadata": {
        "id": "W78NQMkeA_Oe"
      },
      "source": [
        "for region in data['Region'].unique():\n",
        "    print(len(data[data['Region'] == region]), region)"
      ],
      "execution_count": null,
      "outputs": []
    },
    {
      "cell_type": "code",
      "metadata": {
        "id": "TiLMckgHBIF1"
      },
      "source": [
        "rows_list=[]\n",
        "for region in data['Region'].unique():\n",
        "    happinessRankSum = data.loc[data['Region'] == region]['Happiness Rank'].sum()\n",
        "    numCountriesInRegion = len(data.loc[data['Region'] == region])\n",
        "    avgHappinessScorePerRegion = happinessRankSum/numCountriesInRegion;\n",
        "    dict1 = {'Region': region, 'Happiness Rank Per Region': avgHappinessScorePerRegion, 'numCountriesInRegion': numCountriesInRegion};\n",
        "    rows_list.append(dict1)"
      ],
      "execution_count": null,
      "outputs": []
    },
    {
      "cell_type": "code",
      "metadata": {
        "id": "lwDCWPcoBKhO"
      },
      "source": [
        "df = pd.DataFrame(rows_list)\n",
        "df.sort_values(['Happiness Rank Per Region'], ascending=True, inplace=True)\n",
        "df"
      ],
      "execution_count": null,
      "outputs": []
    },
    {
      "cell_type": "code",
      "metadata": {
        "id": "6knyd7HwBS7E"
      },
      "source": [
        "plt.figure(figsize=(10,10))\n",
        "ax = sns.barplot(df['Region'], df['Happiness Rank Per Region'])\n",
        "ax.set_xticklabels(ax.get_xticklabels(), rotation=40, ha=\"right\")"
      ],
      "execution_count": null,
      "outputs": []
    }
  ]
}
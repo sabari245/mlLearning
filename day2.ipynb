{
  "nbformat": 4,
  "nbformat_minor": 0,
  "metadata": {
    "colab": {
      "name": "linearRegression.ipynb",
      "provenance": [],
      "collapsed_sections": []
    },
    "kernelspec": {
      "name": "python3",
      "display_name": "Python 3"
    },
    "language_info": {
      "name": "python"
    }
  },
  "cells": [
    {
      "cell_type": "code",
      "execution_count": 42,
      "metadata": {
        "id": "cwbuMNS9VKJO"
      },
      "outputs": [],
      "source": [
        "import pandas as pd\n",
        "import matplotlib.pyplot as plt\n",
        "from sklearn.linear_model import LinearRegression\n",
        "import numpy as np"
      ]
    },
    {
      "cell_type": "code",
      "source": [
        "df = pd.read_csv('day2.csv')\n",
        "df.info()"
      ],
      "metadata": {
        "colab": {
          "base_uri": "https://localhost:8080/"
        },
        "id": "HNWh4MfMVgt3",
        "outputId": "96071f93-2dc9-4635-9aaf-7e7090ed0c98"
      },
      "execution_count": 12,
      "outputs": [
        {
          "output_type": "stream",
          "name": "stdout",
          "text": [
            "<class 'pandas.core.frame.DataFrame'>\n",
            "RangeIndex: 119040 entries, 0 to 119039\n",
            "Data columns (total 31 columns):\n",
            " #   Column       Non-Null Count   Dtype  \n",
            "---  ------       --------------   -----  \n",
            " 0   STA          119040 non-null  int64  \n",
            " 1   Date         119040 non-null  object \n",
            " 2   Precip       119040 non-null  object \n",
            " 3   WindGustSpd  532 non-null     float64\n",
            " 4   MaxTemp      119040 non-null  float64\n",
            " 5   MinTemp      119040 non-null  float64\n",
            " 6   MeanTemp     119040 non-null  float64\n",
            " 7   Snowfall     117877 non-null  object \n",
            " 8   PoorWeather  34237 non-null   object \n",
            " 9   YR           119040 non-null  int64  \n",
            " 10  MO           119040 non-null  int64  \n",
            " 11  DA           119040 non-null  int64  \n",
            " 12  PRCP         117108 non-null  object \n",
            " 13  DR           533 non-null     float64\n",
            " 14  SPD          532 non-null     float64\n",
            " 15  MAX          118566 non-null  float64\n",
            " 16  MIN          118572 non-null  float64\n",
            " 17  MEA          118542 non-null  float64\n",
            " 18  SNF          117877 non-null  object \n",
            " 19  SND          5563 non-null    float64\n",
            " 20  FT           0 non-null       float64\n",
            " 21  FB           0 non-null       float64\n",
            " 22  FTI          0 non-null       float64\n",
            " 23  ITH          0 non-null       float64\n",
            " 24  PGT          525 non-null     float64\n",
            " 25  TSHDSBRSGF   34237 non-null   object \n",
            " 26  SD3          0 non-null       float64\n",
            " 27  RHX          0 non-null       float64\n",
            " 28  RHN          0 non-null       float64\n",
            " 29  RVG          0 non-null       float64\n",
            " 30  WTE          0 non-null       float64\n",
            "dtypes: float64(20), int64(4), object(7)\n",
            "memory usage: 28.2+ MB\n"
          ]
        },
        {
          "output_type": "stream",
          "name": "stderr",
          "text": [
            "/usr/local/lib/python3.7/dist-packages/IPython/core/interactiveshell.py:2718: DtypeWarning: Columns (7,8,18,25) have mixed types.Specify dtype option on import or set low_memory=False.\n",
            "  interactivity=interactivity, compiler=compiler, result=result)\n"
          ]
        }
      ]
    },
    {
      "cell_type": "code",
      "source": [
        "meanTemp = df['MeanTemp']\n",
        "meanTemp.describe()\n",
        "minTemp = df['MinTemp']\n",
        "\n",
        "plt.scatter(minTemp, meanTemp)\n",
        "plt.show()"
      ],
      "metadata": {
        "colab": {
          "base_uri": "https://localhost:8080/",
          "height": 265
        },
        "id": "h3vjUO_SV-of",
        "outputId": "4dfbec57-8430-4f3d-d88c-82ab18f88b5d"
      },
      "execution_count": 16,
      "outputs": [
        {
          "output_type": "display_data",
          "data": {
            "image/png": "[encoded data removed]",
            "text/plain": [
              "<Figure size 432x288 with 1 Axes>"
            ]
          },
          "metadata": {
            "needs_background": "light"
          }
        }
      ]
    },
    {
      "cell_type": "code",
      "source": [
        "df.plot(x='MinTemp', y='MeanTemp', style='o')\n",
        "plt.show()"
      ],
      "metadata": {
        "colab": {
          "base_uri": "https://localhost:8080/",
          "height": 279
        },
        "id": "bF2JN2cSYwSK",
        "outputId": "3a50377b-1245-4b59-c4b9-d7c1d238a37f"
      },
      "execution_count": 17,
      "outputs": [
        {
          "output_type": "display_data",
          "data": {
            "image/png": "[encoded data removed]",
            "text/plain": [
              "<Figure size 432x288 with 1 Axes>"
            ]
          },
          "metadata": {
            "needs_background": "light"
          }
        }
      ]
    },
    {
      "cell_type": "code",
      "source": [
        "x = [[i] for i in list(minTemp)]\n",
        "y = [[i] for i in list(meanTemp)]\n",
        "\n",
        "r = LinearRegression().fit(x, y)\n",
        "r.score(x,y)"
      ],
      "metadata": {
        "colab": {
          "base_uri": "https://localhost:8080/"
        },
        "id": "0bwqQnl7bXFN",
        "outputId": "ed3a0bcd-851c-495e-a28b-d8e5e4cca513"
      },
      "execution_count": 24,
      "outputs": [
        {
          "output_type": "execute_result",
          "data": {
            "text/plain": [
              "0.9320447932341193"
            ]
          },
          "metadata": {},
          "execution_count": 24
        }
      ]
    },
    {
      "cell_type": "code",
      "source": [
        "x = minTemp.values.reshape(-1,1)\n",
        "y = meanTemp.values.reshape(-1,1)\n",
        "print(x)\n",
        "reg = LinearRegression().fit(x, y)\n",
        "reg.score(x, y)\n"
      ],
      "metadata": {
        "colab": {
          "base_uri": "https://localhost:8080/"
        },
        "id": "--RmVsUnZFZE",
        "outputId": "d33c6cb6-2c12-464e-abf9-207ab0485e65"
      },
      "execution_count": 25,
      "outputs": [
        {
          "output_type": "stream",
          "name": "stdout",
          "text": [
            "[[22.22222222]\n",
            " [21.66666667]\n",
            " [22.22222222]\n",
            " ...\n",
            " [18.33333333]\n",
            " [18.33333333]\n",
            " [17.22222222]]\n"
          ]
        },
        {
          "output_type": "execute_result",
          "data": {
            "text/plain": [
              "0.9320447932341193"
            ]
          },
          "metadata": {},
          "execution_count": 25
        }
      ]
    },
    {
      "cell_type": "code",
      "source": [
        "m = reg.coef_\n",
        "c = reg.intercept_\n",
        "\n",
        "\n",
        "#y = mx + c\n",
        "xdash = [int(i[0]) for i in x]\n",
        "x_values = [i for i in range(min(xdash), max(xdash))]\n",
        "y_values = [(m[0]*i)+c for i in range(min(xdash), max(xdash))]\n",
        "\n",
        "# print(x_values)\n",
        "# print(y_values)\n",
        "\n",
        "plt.plot(x_values, y_values)\n",
        "plt.show()"
      ],
      "metadata": {
        "colab": {
          "base_uri": "https://localhost:8080/",
          "height": 268
        },
        "id": "3yjIb-hDb5eC",
        "outputId": "6042a52e-008f-4bb4-c924-b9087667526b"
      },
      "execution_count": 38,
      "outputs": [
        {
          "output_type": "display_data",
          "data": {
            "image/png": "[encoded data removed]",
            "text/plain": [
              "<Figure size 432x288 with 1 Axes>"
            ]
          },
          "metadata": {
            "needs_background": "light"
          }
        }
      ]
    },
    {
      "cell_type": "code",
      "source": [
        "df.plot(x='MinTemp', y='MeanTemp', style='o')\n",
        "plt.plot(x_values, y_values, color='red')\n",
        "x_train = np.array([i for i in range(30, 50)])\n",
        "x_train = x_train.reshape(-1,1)\n",
        "print(x_train)\n",
        "y_train = reg.predict(x_train)\n",
        "plt.scatter(x_train, y_train, color=\"green\")\n",
        "plt.show()"
      ],
      "metadata": {
        "colab": {
          "base_uri": "https://localhost:8080/",
          "height": 626
        },
        "id": "gkC5xZFrd4pT",
        "outputId": "371ac659-1052-408a-dcdf-b732b984edfd"
      },
      "execution_count": 54,
      "outputs": [
        {
          "output_type": "stream",
          "name": "stdout",
          "text": [
            "[[30]\n",
            " [31]\n",
            " [32]\n",
            " [33]\n",
            " [34]\n",
            " [35]\n",
            " [36]\n",
            " [37]\n",
            " [38]\n",
            " [39]\n",
            " [40]\n",
            " [41]\n",
            " [42]\n",
            " [43]\n",
            " [44]\n",
            " [45]\n",
            " [46]\n",
            " [47]\n",
            " [48]\n",
            " [49]]\n"
          ]
        },
        {
          "output_type": "display_data",
          "data": {
            "image/png": "[encoded data removed]",
            "text/plain": [
              "<Figure size 432x288 with 1 Axes>"
            ]
          },
          "metadata": {
            "needs_background": "light"
          }
        }
      ]
    },
    {
      "cell_type": "code",
      "source": [
        ""
      ],
      "metadata": {
        "id": "sPg8vtDhgAmc"
      },
      "execution_count": null,
      "outputs": []
    }
  ]
}
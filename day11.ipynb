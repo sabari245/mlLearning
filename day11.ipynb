{
  "nbformat": 4,
  "nbformat_minor": 0,
  "metadata": {
    "colab": {
      "name": "Pandas2.ipynb",
      "provenance": []
    },
    "kernelspec": {
      "name": "python3",
      "display_name": "Python 3"
    },
    "language_info": {
      "name": "python"
    }
  },
  "cells": [
    {
      "cell_type": "markdown",
      "metadata": {
        "id": "ySTh73u62b86"
      },
      "source": [
        "**Load the CSV into a DataFrame**"
      ]
    },
    {
      "cell_type": "code",
      "metadata": {
        "id": "WfKQGNiu2dda"
      },
      "source": [
        "import pandas as pd\n",
        "\n",
        "df = pd.read_csv('data.csv')\n",
        "\n",
        "print(df.to_string()) "
      ],
      "execution_count": null,
      "outputs": []
    },
    {
      "cell_type": "markdown",
      "metadata": {
        "id": "0mNegO3367EO"
      },
      "source": [
        "**Load the JSON file into a DataFrame**"
      ]
    },
    {
      "cell_type": "code",
      "metadata": {
        "id": "RGt4Jmxc7AVg"
      },
      "source": [
        "import pandas as pd\n",
        "\n",
        "df = pd.read_json('data.json')\n",
        "\n",
        "print(df.to_string()) "
      ],
      "execution_count": null,
      "outputs": []
    },
    {
      "cell_type": "markdown",
      "metadata": {
        "id": "SPZrSHOs7MV6"
      },
      "source": [
        "**printing the first 10 rows of the DataFrame**"
      ]
    },
    {
      "cell_type": "code",
      "metadata": {
        "id": "Aq7zJiId7ZL_"
      },
      "source": [
        "import pandas as pd\n",
        "\n",
        "df = pd.read_csv('data.csv')\n",
        "\n",
        "print(df.head(10))"
      ],
      "execution_count": null,
      "outputs": []
    },
    {
      "cell_type": "markdown",
      "metadata": {
        "id": "nEHtXe__7vL1"
      },
      "source": [
        "**Print the last 5 rows of the DataFrame**"
      ]
    },
    {
      "cell_type": "code",
      "metadata": {
        "id": "MoLksDBH7yMW"
      },
      "source": [
        "print(df.tail()) "
      ],
      "execution_count": null,
      "outputs": []
    },
    {
      "cell_type": "markdown",
      "metadata": {
        "id": "Yk7Zfk3b79Qn"
      },
      "source": [
        "**Print information about the data**"
      ]
    },
    {
      "cell_type": "code",
      "metadata": {
        "id": "4Sd7AOc09RoK"
      },
      "source": [
        "print(df.info())"
      ],
      "execution_count": null,
      "outputs": []
    },
    {
      "cell_type": "markdown",
      "metadata": {
        "id": "NkBtDJhp9XmN"
      },
      "source": [
        "**Return a new Data Frame with no empty cells**"
      ]
    },
    {
      "cell_type": "code",
      "metadata": {
        "id": "wxx_lNrD9fbe"
      },
      "source": [
        "import pandas as pd\n",
        "\n",
        "df = pd.read_csv('data.csv')\n",
        "\n",
        "new_df = df.dropna()\n",
        "\n",
        "print(new_df.to_string())"
      ],
      "execution_count": null,
      "outputs": []
    },
    {
      "cell_type": "markdown",
      "metadata": {
        "id": "O6rEmwUw9knB"
      },
      "source": [
        "**Remove all rows with NULL values**"
      ]
    },
    {
      "cell_type": "code",
      "metadata": {
        "id": "q0F5KLZ-9sr4"
      },
      "source": [
        "import pandas as pd\n",
        "\n",
        "df = pd.read_csv('data.csv')\n",
        "\n",
        "df.dropna(inplace = True)\n",
        "\n",
        "print(df.to_string())\n"
      ],
      "execution_count": null,
      "outputs": []
    },
    {
      "cell_type": "markdown",
      "metadata": {
        "id": "ic8BmiQj910V"
      },
      "source": [
        "**Replace NULL values with the number 130**"
      ]
    },
    {
      "cell_type": "code",
      "metadata": {
        "id": "LIgQjF6T93v8"
      },
      "source": [
        "import pandas as pd\n",
        "\n",
        "df = pd.read_csv('data.csv')\n",
        "\n",
        "df.fillna(130, inplace = True)\n",
        "print(df.to_string())"
      ],
      "execution_count": null,
      "outputs": []
    },
    {
      "cell_type": "markdown",
      "metadata": {
        "id": "FaaqDpyx9-33"
      },
      "source": [
        "**Replace NULL values in the \"Calories\" columns with the number 130**"
      ]
    },
    {
      "cell_type": "code",
      "metadata": {
        "id": "a2bWmyVN-BPZ"
      },
      "source": [
        "import pandas as pd\n",
        "\n",
        "df = pd.read_csv('data.csv')\n",
        "\n",
        "df[\"Calories\"].fillna(130, inplace = True)\n",
        "print(df.to_string())"
      ],
      "execution_count": null,
      "outputs": []
    },
    {
      "cell_type": "markdown",
      "metadata": {
        "id": "7YM-z56Z-MHF"
      },
      "source": [
        "**Calculate the MEAN, and replace any empty values with it**"
      ]
    },
    {
      "cell_type": "code",
      "metadata": {
        "id": "ROUINA4R-Udn"
      },
      "source": [
        "import pandas as pd\n",
        "\n",
        "df = pd.read_csv('data.csv')\n",
        "\n",
        "x = df[\"Calories\"].mean()\n",
        "\n",
        "df[\"Calories\"].fillna(x, inplace = True)\n",
        "print(df.to_string())"
      ],
      "execution_count": null,
      "outputs": []
    },
    {
      "cell_type": "markdown",
      "metadata": {
        "id": "Qqbco10_-gjZ"
      },
      "source": [
        "**Calculate the MEDIAN, and replace any empty values with it**"
      ]
    },
    {
      "cell_type": "code",
      "metadata": {
        "id": "DkIMkd64-jsl"
      },
      "source": [
        "import pandas as pd\n",
        "\n",
        "df = pd.read_csv('data.csv')\n",
        "\n",
        "x = df[\"Calories\"].median()\n",
        "\n",
        "df[\"Calories\"].fillna(x, inplace = True)\n",
        "print(df.to_string())\n"
      ],
      "execution_count": null,
      "outputs": []
    },
    {
      "cell_type": "markdown",
      "metadata": {
        "id": "DCcWummg-nS0"
      },
      "source": [
        "**Calculate the MODE, and replace any empty values with it**"
      ]
    },
    {
      "cell_type": "code",
      "metadata": {
        "id": "HHXEuEKI-0Hs"
      },
      "source": [
        "import pandas as pd\n",
        "\n",
        "df = pd.read_csv('data.csv')\n",
        "\n",
        "x = df[\"Calories\"].mode()[0]\n",
        "\n",
        "df[\"Calories\"].fillna(x, inplace = True)\n",
        "print(df.to_string())\n"
      ],
      "execution_count": null,
      "outputs": []
    }
  ]
}